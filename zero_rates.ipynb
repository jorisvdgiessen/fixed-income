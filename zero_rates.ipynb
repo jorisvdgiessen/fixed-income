{
 "cells": [
  {
   "cell_type": "markdown",
   "id": "bf048722",
   "metadata": {},
   "source": [
    "# Unobserved zero/spot curve from traded bonds\n",
    "\n",
    "A zero/spot curve resembles a curve of interest rates that present the cost of borrowing/lending from today/now/spot to the maturity on the x-axis on the curve. This is however a theoretical rate since it is not given that we can observe these interest rates directly. Take for instance a zero curve retrieved from bond prices. To get a clear view of the interest rates, we would need to have an actively traded zero-coupon bond for every maturity of interest. \n",
    "\n",
    "In practice, lots of disturbing forces are at play. Some bonds bear coupons, which distort the measure of underlying zero rates. Moreover, there might not be an (actively traded) instrument for each maturity. Especially when a set of bonds consists of coupon bearing bonds, it is likely that there will be points on the zero curve, where we don't have a bond price, but we do have a coupon to discount. This presents a case where there are more variables (zero rates) than equations (bond prices). Lastly, the time to maturity of bonds is ever changing and finding bonds for specific benchmark maturities (3m, 6m, 2y, 5y, etc.) might be difficult. \n",
    "\n",
    "In this notebook we will deal with a set of bonds where some of them are coupon bearing, and where some maturities don't have an actively traded instrument but do have a coupon payment. "
   ]
  },
  {
   "cell_type": "code",
   "execution_count": null,
   "id": "16fe9e85",
   "metadata": {},
   "outputs": [],
   "source": [
    "import numpy as np\n",
    "import pandas as pd\n",
    "import matplotlib.pyplot as plt\n",
    "from scipy.optimize import minimize"
   ]
  },
  {
   "cell_type": "markdown",
   "id": "ed82d1f7",
   "metadata": {},
   "source": [
    "#### The True Zero Curve\n",
    "\n",
    "Let's define our true zero curve to have a reference point for our future calculations and estimations. See below the true zero rates and subsequently we define a set of bonds that adhere to this zero curve, however, containing distortions as the ones described above. "
   ]
  },
  {
   "cell_type": "code",
   "execution_count": 20,
   "id": "2354d22b",
   "metadata": {},
   "outputs": [
    {
     "data": {
      "image/png": "[encoded data removed]",
      "text/plain": [
       "<Figure size 640x480 with 1 Axes>"
      ]
     },
     "metadata": {},
     "output_type": "display_data"
    }
   ],
   "source": [
    "# True values for the zero curve\n",
    "true_zero_curve = pd.DataFrame({\n",
    "    '1y': {'tau': 1.00, 'zero_rate': 0.025317808},\n",
    "    '2y': {'tau': 2.00, 'zero_rate': 0.026173240},\n",
    "    '3y': {'tau': 3.00, 'zero_rate': 0.027321},\n",
    "    '4y': {'tau': 4.00, 'zero_rate': 0.030125},\n",
    "})\n",
    "\n",
    "plt.plot(true_zero_curve.loc['zero_rate'])\n",
    "plt.show()"
   ]
  },
  {
   "cell_type": "code",
   "execution_count": null,
   "id": "0ef6822c",
   "metadata": {},
   "outputs": [
    {
     "data": {
      "text/html": [
       "<div>\n",
       "<style scoped>\n",
       "    .dataframe tbody tr th:only-of-type {\n",
       "        vertical-align: middle;\n",
       "    }\n",
       "\n",
       "    .dataframe tbody tr th {\n",
       "        vertical-align: top;\n",
       "    }\n",
       "\n",
       "    .dataframe thead th {\n",
       "        text-align: right;\n",
       "    }\n",
       "</style>\n",
       "<table border=\"1\" class=\"dataframe\">\n",
       "  <thead>\n",
       "    <tr style=\"text-align: right;\">\n",
       "      <th></th>\n",
       "      <th>bond1</th>\n",
       "      <th>bond2</th>\n",
       "      <th>bond3</th>\n",
       "    </tr>\n",
       "  </thead>\n",
       "  <tbody>\n",
       "    <tr>\n",
       "      <th>coupon</th>\n",
       "      <td>0.0</td>\n",
       "      <td>0.0</td>\n",
       "      <td>2.00000</td>\n",
       "    </tr>\n",
       "    <tr>\n",
       "      <th>time_to_maturity</th>\n",
       "      <td>1.0</td>\n",
       "      <td>2.0</td>\n",
       "      <td>4.00000</td>\n",
       "    </tr>\n",
       "    <tr>\n",
       "      <th>price</th>\n",
       "      <td>97.5</td>\n",
       "      <td>94.9</td>\n",
       "      <td>96.11078</td>\n",
       "    </tr>\n",
       "    <tr>\n",
       "      <th>coupon_freq</th>\n",
       "      <td>1.0</td>\n",
       "      <td>1.0</td>\n",
       "      <td>1.00000</td>\n",
       "    </tr>\n",
       "  </tbody>\n",
       "</table>\n",
       "</div>"
      ],
      "text/plain": [
       "                  bond1  bond2     bond3\n",
       "coupon              0.0    0.0   2.00000\n",
       "time_to_maturity    1.0    2.0   4.00000\n",
       "price              97.5   94.9  96.11078\n",
       "coupon_freq         1.0    1.0   1.00000"
      ]
     },
     "execution_count": 2,
     "metadata": {},
     "output_type": "execute_result"
    }
   ],
   "source": [
    "\n",
    "\n",
    "# note that the prices in the dictionary are derived from the true zero rates. From bond 1 and 2 we should be able to retrieve \n",
    "# the correct rate by simply solving for the zero rate. From 3y point onwards it becomes a bit more foggy. \n",
    "dict = {\n",
    "    'bond1': {\n",
    "        'coupon': 0.00,\n",
    "        'time_to_maturity': 1.00,\n",
    "        'price': 97.50,\n",
    "        'coupon_freq': int(1),\n",
    "    },\n",
    "\n",
    "    'bond2': {\n",
    "        'coupon': 0.00,\n",
    "        'time_to_maturity': 2.00,\n",
    "        'price': 94.90,\n",
    "        'coupon_freq': int(1),\n",
    "    },\n",
    "\n",
    "    'bond3': {\n",
    "        'coupon': 2.00,\n",
    "        'time_to_maturity': 4.00,\n",
    "        'price': 96.11078,\n",
    "        'coupon_freq': int(1),\n",
    "    }\n",
    "}\n",
    "\n",
    "df = pd.DataFrame(dict)\n",
    "df"
   ]
  },
  {
   "cell_type": "code",
   "execution_count": 3,
   "id": "a57e100b",
   "metadata": {},
   "outputs": [
    {
     "data": {
      "text/html": [
       "<div>\n",
       "<style scoped>\n",
       "    .dataframe tbody tr th:only-of-type {\n",
       "        vertical-align: middle;\n",
       "    }\n",
       "\n",
       "    .dataframe tbody tr th {\n",
       "        vertical-align: top;\n",
       "    }\n",
       "\n",
       "    .dataframe thead th {\n",
       "        text-align: right;\n",
       "    }\n",
       "</style>\n",
       "<table border=\"1\" class=\"dataframe\">\n",
       "  <thead>\n",
       "    <tr style=\"text-align: right;\">\n",
       "      <th></th>\n",
       "      <th>1.0</th>\n",
       "      <th>2.0</th>\n",
       "      <th>3.0</th>\n",
       "      <th>4.0</th>\n",
       "    </tr>\n",
       "  </thead>\n",
       "  <tbody>\n",
       "    <tr>\n",
       "      <th>bond1</th>\n",
       "      <td>100</td>\n",
       "      <td>0</td>\n",
       "      <td>0</td>\n",
       "      <td>0</td>\n",
       "    </tr>\n",
       "    <tr>\n",
       "      <th>bond2</th>\n",
       "      <td>0</td>\n",
       "      <td>100</td>\n",
       "      <td>0</td>\n",
       "      <td>0</td>\n",
       "    </tr>\n",
       "    <tr>\n",
       "      <th>bond3</th>\n",
       "      <td>2</td>\n",
       "      <td>2</td>\n",
       "      <td>2</td>\n",
       "      <td>102</td>\n",
       "    </tr>\n",
       "  </tbody>\n",
       "</table>\n",
       "</div>"
      ],
      "text/plain": [
       "       1.0  2.0  3.0  4.0\n",
       "bond1  100    0    0    0\n",
       "bond2    0  100    0    0\n",
       "bond3    2    2    2  102"
      ]
     },
     "execution_count": 3,
     "metadata": {},
     "output_type": "execute_result"
    }
   ],
   "source": [
    "time = [1.00, 2.00, 3.00, 4.00]\n",
    "bonds = df.columns\n",
    "cash_flows = pd.DataFrame(0, index=bonds, columns=time)\n",
    "\n",
    "for bond in bonds:\n",
    "    cpn = df.loc['coupon', bond] / df.loc['coupon_freq', bond]\n",
    "    tau = df.loc['time_to_maturity', bond] \n",
    "\n",
    "    for t in time:\n",
    "        if t < tau:    \n",
    "            cash_flows.loc[bond, t] = cpn\n",
    "        if t==tau: \n",
    "            cash_flows.loc[bond, t] = 100 + cpn\n",
    "\n",
    "\n",
    "\n",
    "cash_flows\n",
    "\n"
   ]
  },
  {
   "cell_type": "markdown",
   "id": "4cd55f0f",
   "metadata": {},
   "source": [
    "#### Optimize for bond 1\n",
    "\n",
    "Note, that we could just use a closed-form solution and get the same answer. However, we are building up to a method for very general cases and don't want to be stuck with getting closed-form expressions all the time.\n",
    "\n",
    "Essentially, we do the following. \n",
    "\n",
    "1. Get all the cash flows in the bond\n",
    "2. Get the price\n",
    "3. Use an initial guess for our first zero rate r1\n",
    "4. Solve using quadratic optimization for r1 given that we have a system of 1 linear equation and 1 degree of freedom (the zero rate)"
   ]
  },
  {
   "cell_type": "code",
   "execution_count": 28,
   "id": "157635a4",
   "metadata": {},
   "outputs": [
    {
     "data": {
      "text/plain": [
       "array([0., 0., 0., 0.])"
      ]
     },
     "execution_count": 28,
     "metadata": {},
     "output_type": "execute_result"
    }
   ],
   "source": [
    "np.zeros(len(time))"
   ]
  },
  {
   "cell_type": "code",
   "execution_count": 30,
   "id": "90ce85d2",
   "metadata": {},
   "outputs": [
    {
     "name": "stderr",
     "output_type": "stream",
     "text": [
      "C:\\Users\\joris\\AppData\\Local\\Temp\\ipykernel_11256\\1361613647.py:4: DeprecationWarning: Conversion of an array with ndim > 0 to a scalar is deprecated, and will error in future. Ensure you extract a single element from your array before performing this operation. (Deprecated NumPy 1.25.)\n",
      "  zero_rates[0] = r1\n"
     ]
    }
   ],
   "source": [
    "zero_rates = np.zeros(len(time))\n",
    "\n",
    "def pv1(r1):\n",
    "    zero_rates[0] = r1\n",
    "    cash_flows_bond1 = cash_flows.loc['bond1', :] \n",
    "    price = df.loc['price', 'bond1']\n",
    "    discount_factors = np.exp(-zero_rates * time)\n",
    "\n",
    "    return( (np.dot(cash_flows_bond1, discount_factors) - price)**2 )\n",
    "\n",
    "\n",
    "r1 = minimize(fun=pv1, x0=0.02).x[0]\n"
   ]
  },
  {
   "cell_type": "markdown",
   "id": "345b42cb",
   "metadata": {},
   "source": [
    "#### Check with Closed-Form Solution\n",
    "\n",
    "if $P_1=97.5$, then with continuous compounding interest it holds that $100e^{-r_1 * t_1} = P_1$. Now, substituting in our values for $P_1$ and $t_1=1$, we get\n",
    "\n",
    "$$ r_1 = \\frac{-1}{t_1} \\ln(P_1/100) = - \\ln(97.50/100) = 0.025317808, $$\n",
    "\n",
    "which is up to 7 decimal places equivalent to our numerically obtained solution (see below)."
   ]
  },
  {
   "cell_type": "code",
   "execution_count": 5,
   "id": "0d36bb0f",
   "metadata": {},
   "outputs": [
    {
     "data": {
      "text/plain": [
       "0.0253178154358983"
      ]
     },
     "execution_count": 5,
     "metadata": {},
     "output_type": "execute_result"
    }
   ],
   "source": [
    "zero_rates[0]"
   ]
  },
  {
   "cell_type": "markdown",
   "id": "951f53a7",
   "metadata": {},
   "source": [
    "#### Optimize for bond 2 \n",
    "\n",
    "On to bond 2 and see whether there is a pattern to be found. Again we find a rate that seems to agree with our observed prices, and we obtain $r_2$."
   ]
  },
  {
   "cell_type": "code",
   "execution_count": 6,
   "id": "2c72bceb",
   "metadata": {},
   "outputs": [
    {
     "name": "stderr",
     "output_type": "stream",
     "text": [
      "C:\\Users\\joris\\AppData\\Local\\Temp\\ipykernel_11256\\91618923.py:3: DeprecationWarning: Conversion of an array with ndim > 0 to a scalar is deprecated, and will error in future. Ensure you extract a single element from your array before performing this operation. (Deprecated NumPy 1.25.)\n",
      "  zero_rates[1] = r2 # just assign the second zero rate\n",
      "C:\\Users\\joris\\AppData\\Local\\Temp\\ipykernel_11256\\91618923.py:3: DeprecationWarning: Conversion of an array with ndim > 0 to a scalar is deprecated, and will error in future. Ensure you extract a single element from your array before performing this operation. (Deprecated NumPy 1.25.)\n",
      "  zero_rates[1] = r2 # just assign the second zero rate\n"
     ]
    }
   ],
   "source": [
    "# note that function is named differently but ultimately we are seeking a pattern that can generalize\n",
    "def pv2(r2):\n",
    "    zero_rates[1] = r2 # just assign the second zero rate\n",
    "    cash_flows_bond2 = cash_flows.loc['bond2', :] # likewise indicate that it is the second bond/instrument\n",
    "    price = df.loc['price', 'bond2']\n",
    "    discount_factors = np.exp(-zero_rates * time) # already generic\n",
    "\n",
    "    return( (np.dot(cash_flows_bond2, discount_factors) - price)**2 )\n",
    "\n",
    "\n",
    "r2 = minimize(fun=pv2, x0=0.02).x[0] # assign new value to r2"
   ]
  },
  {
   "cell_type": "markdown",
   "id": "8d5ca319",
   "metadata": {},
   "source": [
    "#### Closed-Form Solution for $r_2$\n",
    "\n",
    "$$ r_2 = \\frac{-1}{t_2} \\ln(P_2 / 100) = \\frac{-1}{2} \\ln(94.9 / 100) = 0.026173240, $$\n",
    "\n",
    "which is again equivalent to our numeric solution up to 7 decimal places. "
   ]
  },
  {
   "cell_type": "code",
   "execution_count": 7,
   "id": "cc24c6f5",
   "metadata": {},
   "outputs": [
    {
     "data": {
      "text/plain": [
       "0.02617323585284772"
      ]
     },
     "execution_count": 7,
     "metadata": {},
     "output_type": "execute_result"
    }
   ],
   "source": [
    "zero_rates[1]"
   ]
  },
  {
   "cell_type": "markdown",
   "id": "01f8fb20",
   "metadata": {},
   "source": [
    "#### No observed instrument\n",
    "\n",
    "Now, we are at $t=3$ which puts us in a tough spot. We don't have an observed price of a bond for this time to maturity. However, we do have a cash flow occuring at this moment in time, and we should come up with a zero rate $r_3$ to be able to properly back out the next zero rate $r_4$. Indeed, if we ignore $r_3$ at $t=3$, we will get a system with one equation and 2 unknowns at time $t=4$. \n",
    "\n",
    "Since there is no one way of retrieving our next zero rate, there are lots of possibilities. I will follow Hull's suggestion to interpolate prices between $t=2$ and $t=4$. To do that, I thought it would make more sense to synthetically create a bond with the same coupon as the one at $t=4$ such that the linear interpolation between the two points makes more sense. \n",
    "\n",
    "TODO: also try without synthetic instrument"
   ]
  },
  {
   "cell_type": "code",
   "execution_count": 8,
   "id": "39360765",
   "metadata": {},
   "outputs": [
    {
     "name": "stderr",
     "output_type": "stream",
     "text": [
      "C:\\Users\\joris\\AppData\\Local\\Temp\\ipykernel_11256\\584375283.py:26: DeprecationWarning: Conversion of an array with ndim > 0 to a scalar is deprecated, and will error in future. Ensure you extract a single element from your array before performing this operation. (Deprecated NumPy 1.25.)\n",
      "  zero_rates[2] = r3 # just assign the third zero rate\n"
     ]
    }
   ],
   "source": [
    "def pv3(r3):\n",
    "    zero_rates[2] = 0\n",
    "    discount_factors = np.exp( - zero_rates * time )\n",
    "    synthetic_cpn = 2.0  \n",
    "    synthetic_tau = 2.0\n",
    "    cash_flows_synth = pd.DataFrame(0, index=['synthetic_bond'], columns=time)\n",
    "    \n",
    "    # Create synthetic bond \n",
    "    for t in time:\n",
    "        \n",
    "        if t < synthetic_tau: \n",
    "            cash_flows_synth.loc['synthetic_bond', t] = synthetic_cpn\n",
    "        if t == synthetic_tau:\n",
    "            cash_flows_synth.loc['synthetic_bond', t] = 100 + synthetic_cpn\n",
    "    \n",
    "    price_synt2 = np.dot(discount_factors, cash_flows_synth.loc['synthetic_bond'].values)\n",
    "    \n",
    "    # interpolation\n",
    "    tau2 = synthetic_tau\n",
    "    tau3 = time[2]\n",
    "    tau4 = time[3]\n",
    "    price4 = df.loc['price', 'bond3']\n",
    "    interpolated_price = price_synt2 + (price4 - price_synt2)/(tau4 - tau2) * (tau3 - tau2) \n",
    "    \n",
    "    # go through original process but with the synthetc bond price\n",
    "    zero_rates[2] = r3 # just assign the third zero rate\n",
    "    discount_factors = np.exp(-zero_rates * time) # already generic\n",
    "\n",
    "    interpolated_cpn = 2.0  \n",
    "    interpolated_tau = 3.0\n",
    "    cash_flows_int = pd.DataFrame(0, index=['interpolated_bond'], columns=time)\n",
    "    for t in time:\n",
    "        \n",
    "        if t < interpolated_tau: \n",
    "            cash_flows_int.loc['interpolated_bond', t] = interpolated_cpn\n",
    "        if t == interpolated_tau:\n",
    "            cash_flows_int.loc['interpolated_bond', t] = 100 + interpolated_cpn\n",
    "\n",
    "    interpolated_cash_flows = cash_flows_int.loc['interpolated_bond'].values # likewise indicate that it is the third bond/instrument\n",
    "\n",
    "    return( (np.dot(interpolated_cash_flows, discount_factors) - interpolated_price)**2 )\n",
    "\n",
    "r3 = minimize(fun=pv3, x0=0.02, method=\"BFGS\").x[0] # assign new value to r3"
   ]
  },
  {
   "cell_type": "code",
   "execution_count": 9,
   "id": "247d2fb8",
   "metadata": {},
   "outputs": [
    {
     "data": {
      "text/plain": [
       "array([0.02531782, 0.02617324, 0.02871376, 0.        ])"
      ]
     },
     "execution_count": 9,
     "metadata": {},
     "output_type": "execute_result"
    }
   ],
   "source": [
    "zero_rates"
   ]
  },
  {
   "cell_type": "markdown",
   "id": "93f7c760",
   "metadata": {},
   "source": [
    "#### Retrievement of zero rate from non-observed prices\n",
    "\n",
    "So, by construction we defined a zero rate for $r_3$ as ... . Logically, we are not able to exactly retrieve this value by interpolation, but we are able to narrowly estimate it. It follows that a curve where actively traded securities are available for more maturities, improves price discovery, and thus, increases the likelihood of finding zero rates that are close to the truth. \n",
    "\n",
    "For the fourth rate we can use our previously developed method without the need of interpolation. Let's dig in to see whether we can find $r_4$ close to its 'true' value. "
   ]
  },
  {
   "cell_type": "code",
   "execution_count": 13,
   "id": "cf18acf4",
   "metadata": {},
   "outputs": [
    {
     "name": "stderr",
     "output_type": "stream",
     "text": [
      "C:\\Users\\joris\\AppData\\Local\\Temp\\ipykernel_11256\\4169847530.py:3: DeprecationWarning: Conversion of an array with ndim > 0 to a scalar is deprecated, and will error in future. Ensure you extract a single element from your array before performing this operation. (Deprecated NumPy 1.25.)\n",
      "  zero_rates[3] = r4 # just assign the second zero rate\n"
     ]
    }
   ],
   "source": [
    "# note that function is named differently but ultimately we are seeking a pattern that can generalize\n",
    "def pv4(r4):\n",
    "    zero_rates[3] = r4 # just assign the second zero rate\n",
    "    cash_flows_bond3 = cash_flows.loc['bond3', :] # likewise indicate that it is the second bond/instrument\n",
    "    price = df.loc['price', 'bond3']\n",
    "    discount_factors = np.exp(-zero_rates * time) # already generic\n",
    "\n",
    "    return( (np.dot(cash_flows_bond3, discount_factors) - price)**2 )\n",
    "\n",
    "\n",
    "r4 = minimize(fun=pv4, x0=0.02).x[0] # assign new value to r2"
   ]
  },
  {
   "cell_type": "code",
   "execution_count": 14,
   "id": "64a62536",
   "metadata": {},
   "outputs": [
    {
     "data": {
      "text/plain": [
       "array([0.02531782, 0.02617324, 0.02871376, 0.03010513])"
      ]
     },
     "execution_count": 14,
     "metadata": {},
     "output_type": "execute_result"
    }
   ],
   "source": [
    "zero_rates"
   ]
  },
  {
   "cell_type": "markdown",
   "id": "f11c8cde",
   "metadata": {},
   "source": [
    "#### Estimated vs True Zero Curve\n",
    "\n",
    "How well did we do? Since we defined this exercise ourselves, we have a set of 'true' zero rates. We'll lay them next to the estimated zero rates and see the difference.\n",
    "\n",
    "We can see that if we plot the two curves in a graph, it seems like the year 1, 2 and 4 are very well estimated, while year 3 is a bit off (which is the maturity without traded bond price).\n",
    "\n",
    "If we dig some deeper into the difference we see that in bps, the difference between the 'true' and estimated zero rates is negligble for maturity 1y, 2y and 4y. For the 3y point the difference is 0.133 bps which is in many cases acceptable. Further investigation is needed to assess how these discrepancies behave when a curve consists of more points and more gaps, especially when time to maturity increases, it could be that differences magnify. "
   ]
  },
  {
   "cell_type": "code",
   "execution_count": 22,
   "id": "e5e372c1",
   "metadata": {},
   "outputs": [
    {
     "data": {
      "image/png": "[encoded data removed]",
      "text/plain": [
       "<Figure size 640x480 with 1 Axes>"
      ]
     },
     "metadata": {},
     "output_type": "display_data"
    }
   ],
   "source": [
    "true_zero_rates = true_zero_curve.loc['zero_rate']\n",
    "plt.plot(true_zero_rates)\n",
    "plt.plot(zero_rates)\n",
    "plt.show()"
   ]
  },
  {
   "cell_type": "code",
   "execution_count": null,
   "id": "cbddb6b5",
   "metadata": {},
   "outputs": [],
   "source": []
  },
  {
   "cell_type": "code",
   "execution_count": 26,
   "id": "506af695",
   "metadata": {},
   "outputs": [
    {
     "name": "stdout",
     "output_type": "stream",
     "text": [
      "The difference in bps between true and estimated zero rates is\n",
      " 1y   -0.000\n",
      "2y    0.000\n",
      "3y   -0.139\n",
      "4y    0.002\n",
      "Name: zero_rate, dtype: float64\n"
     ]
    }
   ],
   "source": [
    "difference_bps = 100*(true_zero_rates - zero_rates)\n",
    "print(f'The difference in bps between true and estimated zero rates is\\n {difference_bps.round(3)}')"
   ]
  },
  {
   "cell_type": "markdown",
   "id": "0d1e4232",
   "metadata": {},
   "source": [
    "#### Generalizing results\n",
    "\n",
    "Now, we'll take a good look at the before defined functions and see whether we can generalize some things to make our lives easier. \n",
    "\n",
    "Eventually, we'll need a Curve Class as well."
   ]
  },
  {
   "cell_type": "code",
   "execution_count": null,
   "id": "4437b024",
   "metadata": {},
   "outputs": [],
   "source": [
    "# note that function is named differently but ultimately we are seeking a pattern that can generalize\n",
    "\n",
    "current_bond = 'bond1'\n",
    "zero_rates = np.zeros(len(time))\n",
    "\n",
    "def present_value_constructor(zero_rate_i, idx):\n",
    "    if time[idx] == df.loc['time_to_maturity', current_bond]:\n",
    "        zero_rates[idx] = zero_rate_i # just assign the second zero rate\n",
    "        cash_flows_i = cash_flows.loc[current_bond, :] # likewise indicate that it is the second bond/instrument\n",
    "        price = df.loc['price', current_bond]\n",
    "        discount_factors = np.exp(-zero_rates * time) # already generic\n",
    "    else:\n",
    "        # synthetic bond\n",
    "        synth_cpn = \n",
    "\n",
    "    return( (np.dot(cash_flows_i, discount_factors) - price)**2 )\n",
    "\n",
    "for i, tau in enumerate(time):\n",
    "\n",
    "    zero_rates[i] = minimize(fun=present_value_constructor, x0=0.02, args=(i)).x[0] # assign new value to r2\n",
    "\n",
    "    "
   ]
  },
  {
   "cell_type": "code",
   "execution_count": null,
   "id": "2d923d76",
   "metadata": {},
   "outputs": [],
   "source": [
    "def pv3(r3):\n",
    "    zero_rates[2] = 0\n",
    "    discount_factors = np.exp( - zero_rates * time )\n",
    "    synthetic_cpn = 2.0  \n",
    "    synthetic_tau = 2.0\n",
    "    cash_flows_synth = pd.DataFrame(0, index=['synthetic_bond'], columns=time)\n",
    "    \n",
    "    # Create synthetic bond \n",
    "    for t in time:\n",
    "        \n",
    "        if t < synthetic_tau: \n",
    "            cash_flows_synth.loc['synthetic_bond', t] = synthetic_cpn\n",
    "        if t == synthetic_tau:\n",
    "            cash_flows_synth.loc['synthetic_bond', t] = 100 + synthetic_cpn\n",
    "    \n",
    "    price_synt2 = np.dot(discount_factors, cash_flows_synth.loc['synthetic_bond'].values)\n",
    "    \n",
    "    # interpolation\n",
    "    tau2 = synthetic_tau\n",
    "    tau3 = time[2]\n",
    "    tau4 = time[3]\n",
    "    price4 = df.loc['price', 'bond3']\n",
    "    interpolated_price = price_synt2 + (price4 - price_synt2)/(tau4 - tau2) * (tau3 - tau2) \n",
    "    \n",
    "    # go through original process but with the synthetc bond price\n",
    "    zero_rates[2] = r3 # just assign the third zero rate\n",
    "    discount_factors = np.exp(-zero_rates * time) # already generic\n",
    "\n",
    "    interpolated_cpn = 2.0  \n",
    "    interpolated_tau = 3.0\n",
    "    cash_flows_int = pd.DataFrame(0, index=['interpolated_bond'], columns=time)\n",
    "    for t in time:\n",
    "        \n",
    "        if t < interpolated_tau: \n",
    "            cash_flows_int.loc['interpolated_bond', t] = interpolated_cpn\n",
    "        if t == interpolated_tau:\n",
    "            cash_flows_int.loc['interpolated_bond', t] = 100 + interpolated_cpn\n",
    "\n",
    "    interpolated_cash_flows = cash_flows_int.loc['interpolated_bond'].values # likewise indicate that it is the third bond/instrument\n",
    "\n",
    "    return( (np.dot(interpolated_cash_flows, discount_factors) - interpolated_price)**2 )\n",
    "\n",
    "r3 = minimize(fun=pv3, x0=0.02, method=\"BFGS\").x[0] # assign new value to r3"
   ]
  },
  {
   "cell_type": "code",
   "execution_count": null,
   "id": "5ca385e8",
   "metadata": {},
   "outputs": [],
   "source": []
  },
  {
   "cell_type": "code",
   "execution_count": null,
   "id": "5d69f99b",
   "metadata": {},
   "outputs": [],
   "source": []
  },
  {
   "cell_type": "code",
   "execution_count": null,
   "id": "c312331a",
   "metadata": {},
   "outputs": [],
   "source": []
  }
 ],
 "metadata": {
  "kernelspec": {
   "display_name": "base",
   "language": "python",
   "name": "python3"
  },
  "language_info": {
   "codemirror_mode": {
    "name": "ipython",
    "version": 3
   },
   "file_extension": ".py",
   "mimetype": "text/x-python",
   "name": "python",
   "nbconvert_exporter": "python",
   "pygments_lexer": "ipython3",
   "version": "3.11.7"
  }
 },
 "nbformat": 4,
 "nbformat_minor": 5
}
