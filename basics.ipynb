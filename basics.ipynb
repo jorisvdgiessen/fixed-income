{
 "cells": [
  {
   "cell_type": "markdown",
   "id": "5c2de18f",
   "metadata": {},
   "source": [
    "# Basic Interest Rate calculations\n",
    "\n",
    "This notebook is intended to come up with "
   ]
  }
 ],
 "metadata": {
  "language_info": {
   "name": "python"
  }
 },
 "nbformat": 4,
 "nbformat_minor": 5
}
