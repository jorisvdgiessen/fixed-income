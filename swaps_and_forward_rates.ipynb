{
 "cells": [
  {
   "cell_type": "markdown",
   "id": "6908a579",
   "metadata": {},
   "source": [
    "# Forward Rate Agreements and Interest Rate Swaps\n",
    "\n",
    "This notebook investigates some simple examples of pricing a Forward Rate Agreement (FRA) and a Interest Rate Swap (IRS). We will look at an IRS as a series of FRAs to determine its value. "
   ]
  },
  {
   "cell_type": "code",
   "execution_count": 2,
   "id": "c4fb8c00",
   "metadata": {},
   "outputs": [],
   "source": [
    "# Imports\n",
    "import pandas as pd\n",
    "from scipy.optimize import fsolve"
   ]
  },
  {
   "attachments": {
    "image.png": {
     "image/png": "[encoded data removed]"
    }
   },
   "cell_type": "markdown",
   "id": "7f6f23dc",
   "metadata": {},
   "source": [
    "### Swap Rate: implied forward rates from zero/spot rates\n",
    "\n",
    "Given a set of traded bond prices up to 3 years maturity, we can derive the fair value swap rate of a 3 year IRS. \n",
    "\n",
    "![image.png](attachment:image.png)\n",
    "\n",
    "In the table we display the characteristics of the traded instruments: time to maturity, coupon rate and present value. The bonds are not zero-coupon bonds (ZCB) which implies that it's present value represents both the payout of the notional at maturity, but also its coupon payments in between. This means that for maturities longer than 1 year we should take into account the varying zero/spot rates in discounting the coupon payments. Consequently, we can't take the yield to equal the zero rate. For convenience, the zero rates are already presented in the table. Note that, in practice, one would bootstrap the zero rates from the traded bond price quotes (see zero rates notebook).\n",
    "\n",
    "For now, we will price the IRS based on the zero curve implied forward rates. From $t=0$ to $t=1$ the forward rate is simply equal to the zero rate. From $t=1$ to $t=2$ we must solve for the 1y1y forward rate, i.e. the forward rate implied from the spot curve starting in 1y and maturing in 1y (we always denote the time to start first, followed by the time to maturity). Let the zero/spot rate for maturity $i \\in \\mathbb{Z}$ be defined as $s_i$. The forward rate in $i$ years for $j$ years is denoted as $f_{ij}$. It must hold, by no-arbitrage, that \n",
    "\n",
    "$$ (1 + f_{01}) (1 + f_{11}) = (1 + s_{2})^2, $$\n",
    "\n",
    "where $f_{01} = s_{1}$. So, solving for $f_{11}$ we get\n",
    "\n",
    "$$ f_{11} = \\left( \\frac{(1 + s_{2})^2}{(1 + s_{1})^1} - 1 \\right)^{\\frac{1}{1}}, $$\n",
    "\n",
    "where we indicated the years involved in the 1 year forward rates just to highlight that these numbers would come into play if the time in the forward rate is less clean than in this example. "
   ]
  },
  {
   "cell_type": "code",
   "execution_count": 3,
   "id": "cf9c3492",
   "metadata": {},
   "outputs": [],
   "source": [
    "# zero/spot rates\n",
    "s_1 = 0.022565\n",
    "s_2 = 0.032282\n",
    "s_3 = 0.040354\n",
    "\n",
    "# forward rate from t=0 to t=1\n",
    "f_01 = s_1\n",
    "\n",
    "# forward rate from t=1 to t=2\n",
    "f_11 = ( (1 + s_2)**2 / (1 + f_01)**1 - 1 )**(1/1)"
   ]
  },
  {
   "cell_type": "markdown",
   "id": "02dac748",
   "metadata": {},
   "source": [
    "For the last forward rate we solve\n",
    "\n",
    "$$ (1 + f_{01}) (1 + f_{11}) (1 + f_{21}) = (1 + s_{3})^3, $$\n",
    "\n",
    "which gives\n",
    "\n",
    "$$ f_{21} = \\frac{(1 + s_{3})^3}{(1 + f_{01}) (1 + f_{11})} - 1, $$\n",
    "\n",
    "where this time, for notational ease, I omitted the time component in the 1-year forward rates (but this is implicitly still there, and for periods deviating from precisely 1 year, this is highly important to take into account)."
   ]
  },
  {
   "cell_type": "code",
   "execution_count": 4,
   "id": "e58da73e",
   "metadata": {},
   "outputs": [
    {
     "data": {
      "text/plain": [
       "0.05668785224296813"
      ]
     },
     "execution_count": 4,
     "metadata": {},
     "output_type": "execute_result"
    }
   ],
   "source": [
    "f_21 = (1 + s_3)**3 / ( (1 + f_01) * (1 + f_11) ) - 1\n",
    "f_21"
   ]
  },
  {
   "cell_type": "markdown",
   "id": "9b9f3ff6",
   "metadata": {},
   "source": [
    "### Swap Rate: solving for the par swap rate\n",
    "With the forward rates on hand we can look at the equality that must hold such that the value of the swap is zero at initiation (t=0). Small note: we write the equality assuming 1y forward rates, a swap with a 3 year maturity and with precisely 1 year increments in time. The notional is denoted as $N$. Again, by no-arbitrage it holds that\n",
    "\n",
    "$$ \\sum_{i=1}^3 \\frac{f_{i-1,i}}{(1 + s_i)^i} * N = \\sum_{i=1}^3 \\frac{r}{(1 + s_i)^i} * N, $$\n",
    "\n",
    "where $r$ is the fixed swap rate in the contract, for which we would like to solve. Note that the notional can be ignored in finding the swap rate, since it just cancels out. "
   ]
  },
  {
   "cell_type": "code",
   "execution_count": 9,
   "id": "ad6bef7e",
   "metadata": {},
   "outputs": [
    {
     "data": {
      "text/html": [
       "<div>\n",
       "<style scoped>\n",
       "    .dataframe tbody tr th:only-of-type {\n",
       "        vertical-align: middle;\n",
       "    }\n",
       "\n",
       "    .dataframe tbody tr th {\n",
       "        vertical-align: top;\n",
       "    }\n",
       "\n",
       "    .dataframe thead th {\n",
       "        text-align: right;\n",
       "    }\n",
       "</style>\n",
       "<table border=\"1\" class=\"dataframe\">\n",
       "  <thead>\n",
       "    <tr style=\"text-align: right;\">\n",
       "      <th></th>\n",
       "      <th>time</th>\n",
       "      <th>spot rates</th>\n",
       "      <th>forward rates</th>\n",
       "    </tr>\n",
       "  </thead>\n",
       "  <tbody>\n",
       "    <tr>\n",
       "      <th>1</th>\n",
       "      <td>1</td>\n",
       "      <td>0.022565</td>\n",
       "      <td>0.022565</td>\n",
       "    </tr>\n",
       "    <tr>\n",
       "      <th>2</th>\n",
       "      <td>2</td>\n",
       "      <td>0.032282</td>\n",
       "      <td>0.042091</td>\n",
       "    </tr>\n",
       "    <tr>\n",
       "      <th>3</th>\n",
       "      <td>3</td>\n",
       "      <td>0.040354</td>\n",
       "      <td>0.056688</td>\n",
       "    </tr>\n",
       "  </tbody>\n",
       "</table>\n",
       "</div>"
      ],
      "text/plain": [
       "   time  spot rates  forward rates\n",
       "1     1    0.022565       0.022565\n",
       "2     2    0.032282       0.042091\n",
       "3     3    0.040354       0.056688"
      ]
     },
     "execution_count": 9,
     "metadata": {},
     "output_type": "execute_result"
    }
   ],
   "source": [
    "time_to_maturities = [1, 2, 3]\n",
    "forward_rates = [f_01, f_11, f_21]\n",
    "spot_rates = [s_1, s_2, s_3] \n",
    "notional = 10_000_000\n",
    "\n",
    "swap_df = pd.DataFrame(index=time_to_maturities)\n",
    "swap_df['time'] = time_to_maturities\n",
    "swap_df['spot rates'] = spot_rates\n",
    "swap_df['forward rates'] = forward_rates\n",
    "swap_df"
   ]
  },
  {
   "cell_type": "code",
   "execution_count": 10,
   "id": "9181be72",
   "metadata": {},
   "outputs": [
    {
     "data": {
      "text/plain": [
       "-0.05582172253518368"
      ]
     },
     "execution_count": 10,
     "metadata": {},
     "output_type": "execute_result"
    }
   ],
   "source": [
    "float_pv = 0\n",
    "fixed_pv = 0\n",
    "swap_par_rate = 0.02\n",
    "\n",
    "for i in range(len(forward_rates)):\n",
    "    float_pv += forward_rates[i] / (1 + spot_rates[i])**(i+1) \n",
    "    fixed_pv += swap_par_rate / (1 + spot_rates[i])**(i+1)\n",
    "\n",
    "# from the perspective of a fixed rate receiver \n",
    "swap_pv = fixed_pv - float_pv\n",
    "swap_pv"
   ]
  },
  {
   "cell_type": "markdown",
   "id": "45be2258",
   "metadata": {},
   "source": [
    "as we can see, the present value of the swap at initiation is not equal to zero. This is to be expected, since we just inputted a random rate equal to 2% as the par swap rate. The whole idea is that we solve for this swap rate. So, we'll adjust our code to get a function, such that we can solve for the swap rate in this function by using a solver of choice."
   ]
  },
  {
   "cell_type": "code",
   "execution_count": 11,
   "id": "1ce85634",
   "metadata": {},
   "outputs": [
    {
     "data": {
      "text/plain": [
       "0.039904658608858834"
      ]
     },
     "execution_count": 11,
     "metadata": {},
     "output_type": "execute_result"
    }
   ],
   "source": [
    "def swap_pv(swap_par_rate, forward_rates, spot_rates):\n",
    "    float_pv = 0\n",
    "    fixed_pv = 0\n",
    "\n",
    "    for i in range(len(forward_rates)):\n",
    "        float_pv += forward_rates[i] / (1 + spot_rates[i])**(i+1) \n",
    "        fixed_pv += swap_par_rate / (1 + spot_rates[i])**(i+1)\n",
    "\n",
    "    # from the perspective of a fixed rate receiver \n",
    "    swap_pv = fixed_pv - float_pv\n",
    "    \n",
    "    return swap_pv\n",
    "\n",
    "initial_guess = 0.02\n",
    "swap_par_rate = fsolve(func=swap_pv, x0=initial_guess, args=(forward_rates, spot_rates))[0]\n",
    "swap_par_rate\n",
    "\n",
    "\n"
   ]
  },
  {
   "cell_type": "markdown",
   "id": "03b5d355",
   "metadata": {},
   "source": [
    "### Let's have a look at the cashflows\n",
    "\n",
    "If we put our results into the dataframe, we can observe that the fixed payment is identical for each year, and the float payment is proportional to the corresponding forward rate. From here, it's also evident that the net payment in year $i$ in a swap generally doesn't equal zero, at initiation. Usually, an FRA with the same characteristics as one of the swap payments, would have zero value at initiation. This would result in a fixed rate unequal to the swap par rate in our example. However, for swaps, the par swap rate is chosen such that the net present value of the entire contract is zero. This means that some of it's net payments are positive and some are negative at initiation, but its sum equals zero. We show this below. \n",
    "\n",
    "So, in our case, we can think of the fixed rate in the FRAs as identical to the swap par rate. In this case, the value of the FRA would just be unequal to zero at initiation. \n",
    "\n",
    " "
   ]
  },
  {
   "cell_type": "code",
   "execution_count": 12,
   "id": "2fafc32e",
   "metadata": {},
   "outputs": [
    {
     "data": {
      "text/html": [
       "<div>\n",
       "<style scoped>\n",
       "    .dataframe tbody tr th:only-of-type {\n",
       "        vertical-align: middle;\n",
       "    }\n",
       "\n",
       "    .dataframe tbody tr th {\n",
       "        vertical-align: top;\n",
       "    }\n",
       "\n",
       "    .dataframe thead th {\n",
       "        text-align: right;\n",
       "    }\n",
       "</style>\n",
       "<table border=\"1\" class=\"dataframe\">\n",
       "  <thead>\n",
       "    <tr style=\"text-align: right;\">\n",
       "      <th></th>\n",
       "      <th>time</th>\n",
       "      <th>spot rates</th>\n",
       "      <th>forward rates</th>\n",
       "      <th>notional</th>\n",
       "      <th>discount</th>\n",
       "      <th>fixed payment</th>\n",
       "      <th>float payment</th>\n",
       "      <th>net payment</th>\n",
       "      <th>present value fixed</th>\n",
       "      <th>present value float</th>\n",
       "      <th>present value net</th>\n",
       "    </tr>\n",
       "  </thead>\n",
       "  <tbody>\n",
       "    <tr>\n",
       "      <th>1</th>\n",
       "      <td>1</td>\n",
       "      <td>0.022565</td>\n",
       "      <td>0.022565</td>\n",
       "      <td>10000000</td>\n",
       "      <td>0.977933</td>\n",
       "      <td>399046.586089</td>\n",
       "      <td>225650.000000</td>\n",
       "      <td>173396.586089</td>\n",
       "      <td>390240.802383</td>\n",
       "      <td>220670.568619</td>\n",
       "      <td>169570.233764</td>\n",
       "    </tr>\n",
       "    <tr>\n",
       "      <th>2</th>\n",
       "      <td>2</td>\n",
       "      <td>0.032282</td>\n",
       "      <td>0.042091</td>\n",
       "      <td>10000000</td>\n",
       "      <td>0.938433</td>\n",
       "      <td>399046.586089</td>\n",
       "      <td>420913.365155</td>\n",
       "      <td>-21866.779067</td>\n",
       "      <td>374478.501748</td>\n",
       "      <td>394999.009750</td>\n",
       "      <td>-20520.508002</td>\n",
       "    </tr>\n",
       "    <tr>\n",
       "      <th>3</th>\n",
       "      <td>3</td>\n",
       "      <td>0.040354</td>\n",
       "      <td>0.056688</td>\n",
       "      <td>10000000</td>\n",
       "      <td>0.888089</td>\n",
       "      <td>399046.586089</td>\n",
       "      <td>566878.522430</td>\n",
       "      <td>-167831.936341</td>\n",
       "      <td>354388.953136</td>\n",
       "      <td>503438.678898</td>\n",
       "      <td>-149049.725762</td>\n",
       "    </tr>\n",
       "  </tbody>\n",
       "</table>\n",
       "</div>"
      ],
      "text/plain": [
       "   time  spot rates  forward rates  notional  discount  fixed payment  \\\n",
       "1     1    0.022565       0.022565  10000000  0.977933  399046.586089   \n",
       "2     2    0.032282       0.042091  10000000  0.938433  399046.586089   \n",
       "3     3    0.040354       0.056688  10000000  0.888089  399046.586089   \n",
       "\n",
       "   float payment    net payment  present value fixed  present value float  \\\n",
       "1  225650.000000  173396.586089        390240.802383        220670.568619   \n",
       "2  420913.365155  -21866.779067        374478.501748        394999.009750   \n",
       "3  566878.522430 -167831.936341        354388.953136        503438.678898   \n",
       "\n",
       "   present value net  \n",
       "1      169570.233764  \n",
       "2      -20520.508002  \n",
       "3     -149049.725762  "
      ]
     },
     "execution_count": 12,
     "metadata": {},
     "output_type": "execute_result"
    }
   ],
   "source": [
    "swap_df['notional'] = notional\n",
    "swap_df['discount'] = 1 / (1 + swap_df['spot rates'])**swap_df['time']\n",
    "\n",
    "swap_df['fixed payment'] = swap_par_rate * notional \n",
    "swap_df['float payment'] = swap_df['forward rates'] * notional\n",
    "swap_df['net payment'] = swap_df['fixed payment'] - swap_df['float payment']\n",
    "\n",
    "swap_df['present value fixed'] = swap_df['fixed payment'] * swap_df['discount']\n",
    "swap_df['present value float'] = swap_df['float payment'] * swap_df['discount']\n",
    "swap_df['present value net'] = swap_df['present value fixed'] - swap_df['present value float']\n",
    "swap_df\n"
   ]
  },
  {
   "cell_type": "code",
   "execution_count": null,
   "id": "11296662",
   "metadata": {},
   "outputs": [
    {
     "data": {
      "text/plain": [
       "-8.731149137020111e-11"
      ]
     },
     "execution_count": 13,
     "metadata": {},
     "output_type": "execute_result"
    }
   ],
   "source": [
    "# IRS has a value of zero at initiation\n",
    "present_value_swap = swap_df['present value net'].sum()\n",
    "present_value_swap"
   ]
  },
  {
   "cell_type": "code",
   "execution_count": null,
   "id": "815f2898",
   "metadata": {},
   "outputs": [],
   "source": []
  }
 ],
 "metadata": {
  "kernelspec": {
   "display_name": "base",
   "language": "python",
   "name": "python3"
  },
  "language_info": {
   "codemirror_mode": {
    "name": "ipython",
    "version": 3
   },
   "file_extension": ".py",
   "mimetype": "text/x-python",
   "name": "python",
   "nbconvert_exporter": "python",
   "pygments_lexer": "ipython3",
   "version": "3.11.7"
  }
 },
 "nbformat": 4,
 "nbformat_minor": 5
}
